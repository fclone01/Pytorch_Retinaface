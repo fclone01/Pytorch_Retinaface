{
 "cells": [
  {
   "cell_type": "code",
   "execution_count": 1,
   "metadata": {},
   "outputs": [
    {
     "name": "stdout",
     "output_type": "stream",
     "text": [
      "WARNING:tensorflow:From c:\\Users\\four\\AppData\\Local\\Programs\\Python\\Python39\\lib\\site-packages\\tf_keras\\src\\losses.py:2976: The name tf.losses.sparse_softmax_cross_entropy is deprecated. Please use tf.compat.v1.losses.sparse_softmax_cross_entropy instead.\n",
      "\n"
     ]
    }
   ],
   "source": [
    "from deepface import DeepFace\n"
   ]
  },
  {
   "cell_type": "code",
   "execution_count": 6,
   "metadata": {},
   "outputs": [
    {
     "name": "stdout",
     "output_type": "stream",
     "text": [
      "True\n"
     ]
    }
   ],
   "source": [
    "obj = DeepFace.verify(\"c:/Users/four/Downloads/42.jpg\", \"c:/Users/four/Downloads/43.jpg\"\n",
    "          , model_name = 'ArcFace', detector_backend = 'retinaface')\n",
    "print(obj[\"verified\"])"
   ]
  },
  {
   "cell_type": "code",
   "execution_count": 3,
   "metadata": {},
   "outputs": [
    {
     "data": {
      "text/plain": [
       "{'verified': True,\n",
       " 'distance': 0.1973687963264542,\n",
       " 'threshold': 0.68,\n",
       " 'model': 'ArcFace',\n",
       " 'detector_backend': 'retinaface',\n",
       " 'similarity_metric': 'cosine',\n",
       " 'facial_areas': {'img1': {'x': 16,\n",
       "   'y': 23,\n",
       "   'w': 77,\n",
       "   'h': 100,\n",
       "   'left_eye': (72, 63),\n",
       "   'right_eye': (37, 62)},\n",
       "  'img2': {'x': 53,\n",
       "   'y': 109,\n",
       "   'w': 315,\n",
       "   'h': 416,\n",
       "   'left_eye': (292, 288),\n",
       "   'right_eye': (145, 277)}},\n",
       " 'time': 46.68}"
      ]
     },
     "execution_count": 3,
     "metadata": {},
     "output_type": "execute_result"
    }
   ],
   "source": [
    "obj"
   ]
  }
 ],
 "metadata": {
  "kernelspec": {
   "display_name": "Python 3",
   "language": "python",
   "name": "python3"
  },
  "language_info": {
   "codemirror_mode": {
    "name": "ipython",
    "version": 3
   },
   "file_extension": ".py",
   "mimetype": "text/x-python",
   "name": "python",
   "nbconvert_exporter": "python",
   "pygments_lexer": "ipython3",
   "version": "3.9.12"
  }
 },
 "nbformat": 4,
 "nbformat_minor": 2
}
