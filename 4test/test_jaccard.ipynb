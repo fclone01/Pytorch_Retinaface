{
 "cells": [
  {
   "cell_type": "code",
   "execution_count": 10,
   "metadata": {},
   "outputs": [
    {
     "ename": "SyntaxError",
     "evalue": "EOL while scanning string literal (676136866.py, line 58)",
     "output_type": "error",
     "traceback": [
      "\u001b[1;36m  Cell \u001b[1;32mIn[10], line 58\u001b[1;36m\u001b[0m\n\u001b[1;33m    print(\"Ma trận IoU (Intersection over\u001b[0m\n\u001b[1;37m                                         ^\u001b[0m\n\u001b[1;31mSyntaxError\u001b[0m\u001b[1;31m:\u001b[0m EOL while scanning string literal\n"
     ]
    }
   ],
   "source": [
    "import torch\n",
    "\n",
    "# Ví dụ hộp giới hạn với định dạng [x_min, y_min, x_max, y_max]\n",
    "# box_a là các hộp ground truth (hộp thực tế)\n",
    "# box_b là các hộp dự đoán (hộp được dự đoán)\n",
    "box_a = torch.tensor([\n",
    "    [10, 10, 50, 50],  # Hộp 1\n",
    "    [30, 30, 70, 70],  # Hộp 2\n",
    "    [15, 15, 60, 60]   # Hộp 3 (thêm một hộp so với ví dụ trước)\n",
    "], dtype=torch.float32)\n",
    "\n",
    "box_b = torch.tensor([\n",
    "    [20, 20, 60, 60],  # Hộp A\n",
    "    [40, 40, 80, 80],  # Hộp B\n",
    "], dtype=torch.float32)\n",
    "\n",
    "# Hàm tính diện tích giao nhau\n",
    "def intersect(box_a, box_b):\n",
    "    A = box_a.size(0)\n",
    "    B = box_b.size(0)\n",
    "    max_xy = torch.min(box_a[:, 2:].unsqueeze(1).expand(A, B, 2),\n",
    "                       box_b[:, 2:].unsqueeze(0).expand(A, B, 2))\n",
    "    min_xy = torch.max(box_a[:, :2].unsqueeze(1).expand(A, B, 2),\n",
    "                       box_b[:, :2].unsqueeze(0).expand(A, B, 2))\n",
    "\n",
    "    inter = torch.clamp((max_xy - min_xy), min=0)\n",
    "    return inter[:, :, 0] * inter[:, :, 1]\n",
    "\n",
    "# Hàm tính Jaccard (IoU)\n",
    "def jaccard(box_a, box_b):\n",
    "    inter = intersect(box_a, box_b)\n",
    "    print(\"Diện tích giao nhau:\")\n",
    "    print(inter)\n",
    "    \n",
    "    area_a = ((box_a[:, 2] - box_a[:, 0]) * (box_a[:, 3] - box_a[:, 1])).unsqueeze(1).expand_as(inter)\n",
    "    area_b = ((box_b[:, 2] - box_b[:, 0]) * (box_b[:, 3] - box_b[:, 1])).unsqueeze(0).expand_as(inter)\n",
    "    \n",
    "    union = area_a + area_b - inter\n",
    "    return inter / union\n",
    "\n",
    "# Tính toán IoU cho mỗi cặp hộp\n",
    "iou = jaccard(box_a, box_b)\n",
    "\n",
    "# Tìm giá trị IoU cao nhất và chỉ số của hộp tương ứng\n",
    "best_prior_overlap, best_prior_idx = iou.max(1, keepdim=True)\n",
    "best_truth_overlap, best_truth_idx = iou.max(0, keepdim=True)\n",
    "\n",
    "print(\"Giá trị IoU cao nhất cho mỗi hộp trong box_a với box_b:\")\n",
    "print(best_prior_overlap)\n",
    "print(\"Chỉ số hộp có IoU cao nhất tương ứng:\")\n",
    "print(best_prior_idx)\n",
    "\n",
    "print(\"Giá trị IoU cao nhất cho mỗi hộp trong box_b với box_a:\")\n",
    "print(best_truth_overlap)\n",
    "print(\"Chỉ số hộp có IoU cao nhất tương ứng:\")\n",
    "print(best_truth_idx)\n",
    "\n",
    "print(\"Ma trận IoU (Intersection over Union):\")\n",
    "print(iou)\n"
   ]
  }
 ],
 "metadata": {
  "kernelspec": {
   "display_name": ".venv",
   "language": "python",
   "name": "python3"
  },
  "language_info": {
   "codemirror_mode": {
    "name": "ipython",
    "version": 3
   },
   "file_extension": ".py",
   "mimetype": "text/x-python",
   "name": "python",
   "nbconvert_exporter": "python",
   "pygments_lexer": "ipython3",
   "version": "3.9.12"
  }
 },
 "nbformat": 4,
 "nbformat_minor": 2
}
